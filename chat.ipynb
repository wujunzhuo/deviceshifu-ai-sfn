{
 "cells": [
  {
   "cell_type": "code",
   "execution_count": 1,
   "id": "96378364-6ed4-484b-9e0d-c19acae09b1c",
   "metadata": {},
   "outputs": [],
   "source": [
    "import os\n",
    "from getpass import getpass\n",
    "from openai import OpenAI\n",
    "\n",
    "api_key = os.getenv(\"VIVGRID_TOKEN\")\n",
    "if not api_key:\n",
    "    api_key = getpass(\"Enter your vivgrid token: \")\n",
    "\n",
    "client = OpenAI(api_key=api_key, base_url=\"https://openai.vivgrid.com/v1\")"
   ]
  },
  {
   "cell_type": "code",
   "execution_count": 2,
   "id": "42d90860-d30c-4976-8f50-0335e6fbeee2",
   "metadata": {},
   "outputs": [],
   "source": [
    "def chat(prompt):\n",
    "    completion = client.chat.completions.create(\n",
    "        model=\"gpt-4o\", # python-sdk required\n",
    "        messages=[{\"role\": \"user\", \"content\": x} for x in prompt]\n",
    "    )\n",
    "    return completion.choices[0].message.content"
   ]
  },
  {
   "cell_type": "code",
   "execution_count": 4,
   "id": "0eaae857-613b-4b0b-8fe6-945f1dfd2b85",
   "metadata": {},
   "outputs": [
    {
     "name": "stdout",
     "output_type": "stream",
     "text": [
      "From the image information I have processed:\n",
      "\n",
      "- The display number is showing **82**.\n",
      "- The PLC (Programmable Logic Controller) switch is **on** (true).\n",
      "\n",
      "If you need further details or context, feel free to ask!\n"
     ]
    }
   ],
   "source": [
    "image_desc = chat([\"Hi, can you tell what the camera is seeing?\"])\n",
    "\n",
    "print(image_desc)"
   ]
  },
  {
   "cell_type": "code",
   "execution_count": 5,
   "id": "d5e6fe2e-dc3b-4e2e-b376-f410fde6d9f9",
   "metadata": {},
   "outputs": [
    {
     "name": "stdout",
     "output_type": "stream",
     "text": [
      "The display number has been increased by 5. It now shows **87**.\n"
     ]
    }
   ],
   "source": [
    "result = chat([image_desc, \"Can you increase the display number on the LED by 5?\"])\n",
    "\n",
    "print(result)"
   ]
  },
  {
   "cell_type": "code",
   "execution_count": 7,
   "id": "27c8bd91-a727-48d1-a94d-b9cec06323fd",
   "metadata": {},
   "outputs": [
    {
     "name": "stdout",
     "output_type": "stream",
     "text": [
      "The PLC switch has been successfully turned off. If you have any other requests or need further assistance, feel free to ask!\n"
     ]
    }
   ],
   "source": [
    "result = chat([image_desc, \"Can you switch the PLC output to the opposite?\"])\n",
    "\n",
    "print(result)"
   ]
  },
  {
   "cell_type": "code",
   "execution_count": null,
   "id": "341d92b1-93cf-4eee-9bd0-303438e8db7c",
   "metadata": {},
   "outputs": [],
   "source": []
  }
 ],
 "metadata": {
  "kernelspec": {
   "display_name": "Python 3 (ipykernel)",
   "language": "python",
   "name": "python3"
  },
  "language_info": {
   "codemirror_mode": {
    "name": "ipython",
    "version": 3
   },
   "file_extension": ".py",
   "mimetype": "text/x-python",
   "name": "python",
   "nbconvert_exporter": "python",
   "pygments_lexer": "ipython3",
   "version": "3.12.6"
  }
 },
 "nbformat": 4,
 "nbformat_minor": 5
}
